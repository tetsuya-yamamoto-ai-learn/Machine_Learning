{
 "cells": [
  {
   "cell_type": "markdown",
   "metadata": {},
   "source": [
    "# 準備"
   ]
  },
  {
   "cell_type": "markdown",
   "metadata": {},
   "source": [
    "## デフォルトインポート"
   ]
  },
  {
   "cell_type": "code",
   "execution_count": 4,
   "metadata": {},
   "outputs": [],
   "source": [
    "import warnings\n",
    "\n",
    "import matplotlib.pyplot as plt\n",
    "import numpy as np\n",
    "import pandas as pd\n",
    "import seaborn as sns\n",
    "\n",
    "warnings.filterwarnings('ignore')\n",
    "\n",
    "%matplotlib inline"
   ]
  },
  {
   "cell_type": "markdown",
   "metadata": {},
   "source": [
    "## このファイルの目的と備考\n",
    "- 機械学習におけるデータの種類  \n",
    "  - 予測対象⇒目的変数  \n",
    "  - 使えるデータ⇒説明変数\n",
    "\n",
    "- 単回帰問題＝一つの説明変数から目的変数を予測する事  \n",
    "ここでは`RM(部屋数)⇒MEDV(部屋料金の中央値)`を予測する"
   ]
  },
  {
   "cell_type": "markdown",
   "metadata": {},
   "source": [
    "## データの準備"
   ]
  },
  {
   "cell_type": "code",
   "execution_count": 7,
   "metadata": {},
   "outputs": [],
   "source": [
    "from sklearn.datasets import load_boston\n",
    "\n",
    "boston = load_boston()"
   ]
  },
  {
   "cell_type": "code",
   "execution_count": 8,
   "metadata": {},
   "outputs": [],
   "source": [
    "# sklearnの変数名の方式に合わせておく(X:説明変数 y:目的変数)\n",
    "X = boston.data\n",
    "y = boston.target"
   ]
  },
  {
   "cell_type": "code",
   "execution_count": 10,
   "metadata": {},
   "outputs": [
    {
     "data": {
      "text/html": [
       "<div>\n",
       "<style scoped>\n",
       "    .dataframe tbody tr th:only-of-type {\n",
       "        vertical-align: middle;\n",
       "    }\n",
       "\n",
       "    .dataframe tbody tr th {\n",
       "        vertical-align: top;\n",
       "    }\n",
       "\n",
       "    .dataframe thead th {\n",
       "        text-align: right;\n",
       "    }\n",
       "</style>\n",
       "<table border=\"1\" class=\"dataframe\">\n",
       "  <thead>\n",
       "    <tr style=\"text-align: right;\">\n",
       "      <th></th>\n",
       "      <th>RM</th>\n",
       "      <th>MEDV</th>\n",
       "    </tr>\n",
       "  </thead>\n",
       "  <tbody>\n",
       "    <tr>\n",
       "      <th>0</th>\n",
       "      <td>6.575</td>\n",
       "      <td>24.0</td>\n",
       "    </tr>\n",
       "    <tr>\n",
       "      <th>1</th>\n",
       "      <td>6.421</td>\n",
       "      <td>21.6</td>\n",
       "    </tr>\n",
       "    <tr>\n",
       "      <th>2</th>\n",
       "      <td>7.185</td>\n",
       "      <td>34.7</td>\n",
       "    </tr>\n",
       "    <tr>\n",
       "      <th>3</th>\n",
       "      <td>6.998</td>\n",
       "      <td>33.4</td>\n",
       "    </tr>\n",
       "    <tr>\n",
       "      <th>4</th>\n",
       "      <td>7.147</td>\n",
       "      <td>36.2</td>\n",
       "    </tr>\n",
       "  </tbody>\n",
       "</table>\n",
       "</div>"
      ],
      "text/plain": [
       "      RM  MEDV\n",
       "0  6.575  24.0\n",
       "1  6.421  21.6\n",
       "2  7.185  34.7\n",
       "3  6.998  33.4\n",
       "4  7.147  36.2"
      ]
     },
     "execution_count": 10,
     "metadata": {},
     "output_type": "execute_result"
    }
   ],
   "source": [
    "# 使いやすくするためにDFに変換\n",
    "df = pd.DataFrame(X, columns=boston.feature_names) # 説明変数に対してデータフレームを作成\n",
    "df['MEDV'] = y # 目的変数をデータフレームに追加\n",
    "\n",
    "df = df[['RM', 'MEDV']] # 単回帰なのでRM(部屋数)と部屋料金(MEDV)だけ抽出\n",
    "\n",
    "df.head()"
   ]
  },
  {
   "cell_type": "markdown",
   "metadata": {},
   "source": [
    "### RMとMEDVの関係性を観察する"
   ]
  },
  {
   "cell_type": "code",
   "execution_count": 11,
   "metadata": {},
   "outputs": [
    {
     "data": {
      "text/plain": [
       "<matplotlib.axes._subplots.AxesSubplot at 0x266c68620f0>"
      ]
     },
     "execution_count": 11,
     "metadata": {},
     "output_type": "execute_result"
    },
    {
     "data": {
      "image/png": "[encoded data removed]",
      "text/plain": [
       "<Figure size 432x288 with 1 Axes>"
      ]
     },
     "metadata": {
      "needs_background": "light"
     },
     "output_type": "display_data"
    }
   ],
   "source": [
    "sns.scatterplot(df['RM'], df['MEDV'])\n",
    "\n",
    "# sns.scatterplot('RM', 'MEDV', data=df) # こっちでもOK"
   ]
  },
  {
   "cell_type": "markdown",
   "metadata": {},
   "source": [
    "- 所感\n",
    "  - 部屋数が多いほど部屋料金が高いことがなんとなくわかる\n",
    "  - 少しばらつきが大きいかな。。。\n",
    "  \n",
    "- 予想\n",
    "\n",
    "$$y = ax + b $$\n",
    "$$y = ax^2 + bx + c $$\n",
    "\n",
    "説明変数Xと目的変数yを用いて未知パラメータを求める ＝ 学習  \n",
    "\n",
    "上式を採用する場合は、つまり今回の問題は以下の式を予測することになる\n",
    "\n",
    "$$ \\hat{y}_i = ax_i + b$$\n",
    "\n",
    "^は統計の世界では予測値のことを示す。"
   ]
  },
  {
   "cell_type": "markdown",
   "metadata": {},
   "source": [
    "## 最小二乗法"
   ]
  },
  {
   "cell_type": "markdown",
   "metadata": {},
   "source": [
    "ここでポピュラーな方法としては最小二乗法を用いる\n",
    "\n",
    "最小二乗法は`二乗和誤差`が最小になることが正義！！と主張する手法\n",
    "\n",
    "ダメさ度合いを`二乗和誤差`と定義して最小化するように計算していく。  \n",
    "二乗和誤差とはデータの点から直線におろした垂線の長さの事。\n",
    "\n",
    "この時のダメさ度合いのことを`損失関数`と言う。\n",
    "\n",
    "二乗和誤差 ⇒｛最適化アルゴリズム｝⇒ 最小化  \n",
    "というように計算していく"
   ]
  },
  {
   "cell_type": "markdown",
   "metadata": {},
   "source": [
    "## 予測モデルの構築"
   ]
  },
  {
   "cell_type": "markdown",
   "metadata": {},
   "source": [
    "### モデルの構築\n",
    "\n",
    "最小二乗法を用いてモデルを構築するときはsklearn.linear_model.LinearRegression()を使用する"
   ]
  },
  {
   "cell_type": "code",
   "execution_count": 24,
   "metadata": {},
   "outputs": [
    {
     "data": {
      "text/plain": [
       "LinearRegression(copy_X=True, fit_intercept=True, n_jobs=None,\n",
       "         normalize=False)"
      ]
     },
     "execution_count": 24,
     "metadata": {},
     "output_type": "execute_result"
    }
   ],
   "source": [
    "from sklearn.linear_model import LinearRegression\n",
    "\n",
    "linear_regression = LinearRegression()\n",
    "\n",
    "# 学習(=未知パラメータの最適化)\n",
    "linear_regression.fit(df[['RM']], y)"
   ]
  },
  {
   "cell_type": "markdown",
   "metadata": {},
   "source": [
    "### 結果の確認"
   ]
  },
  {
   "cell_type": "code",
   "execution_count": 25,
   "metadata": {},
   "outputs": [
    {
     "name": "stdout",
     "output_type": "stream",
     "text": [
      "MEDV = 9.10 RM + -34.67\n"
     ]
    }
   ],
   "source": [
    "# 切片\n",
    "b = linear_regression.intercept_\n",
    "\n",
    "# 回帰係数\n",
    "a = linear_regression.coef_[0]\n",
    "\n",
    "print(f'MEDV = {a:.2f} RM + {b:.2f}')"
   ]
  },
  {
   "cell_type": "code",
   "execution_count": 28,
   "metadata": {},
   "outputs": [
    {
     "data": {
      "text/plain": [
       "[<matplotlib.lines.Line2D at 0x266d3446518>]"
      ]
     },
     "execution_count": 28,
     "metadata": {},
     "output_type": "execute_result"
    },
    {
     "data": {
      "image/png": "[encoded data removed]",
      "text/plain": [
       "<Figure size 432x288 with 1 Axes>"
      ]
     },
     "metadata": {
      "needs_background": "light"
     },
     "output_type": "display_data"
    }
   ],
   "source": [
    "# データの散布図を描画\n",
    "sns.scatterplot(df['RM'], df['MEDV'])\n",
    "\n",
    "# 予測の直線を描画\n",
    "x_line = np.arange(df['RM'].min(),\n",
    "                   df['RM'].max(),\n",
    "                   step=0.01)\n",
    "\n",
    "# 予測値の計算\n",
    "y_pred = linear_regression.predict(x_line.reshape(-1, 1))\n",
    "\n",
    "# 直線の描画\n",
    "plt.plot(x_line, y_pred, c='r')\n"
   ]
  },
  {
   "cell_type": "markdown",
   "metadata": {},
   "source": [
    "このように実装は簡単！！だから結局何なのかという話とかその結果が何を示しているかを考えるスキルが重要！！"
   ]
  },
  {
   "cell_type": "markdown",
   "metadata": {},
   "source": [
    "### 学習に大事なこと\n",
    "\n",
    "未知のデータをどれだけ正しく予測できるか？(汎化性能)\n",
    "- 善し悪しの基準(評価指標：Metrics)  \n",
    "- どうやって測るか(評価プロトコル)\n",
    "\n",
    "#### 善し悪しの基準(評価指標:Metrics)\n",
    "\n",
    "予測に使ったデータ以外で、データを代入してみて絶対誤差、二乗誤差、決定係数(寄与率) etc..を求める。\n",
    "\n",
    "この善し悪しの基準はどのデータを扱うかによって考える必要がある  \n",
    "(ex) がんの検出\n",
    "\n",
    "#### どうやって測るか(評価プロトコル)\n",
    "\n",
    "作成したモデルに対して、未知のデータを入れて予測することで汎化性能を評価する。\n",
    "\n",
    "サンプルデータの内一部を未知データとして残しておいて、残りデータでモデルを作成した上で、未知データを使って予測を試してみる！\n",
    "\n",
    "これで、汎化性能を図ることができる！！"
   ]
  },
  {
   "cell_type": "code",
   "execution_count": 29,
   "metadata": {},
   "outputs": [
    {
     "data": {
      "text/plain": [
       "0.4835254559913343"
      ]
     },
     "execution_count": 29,
     "metadata": {},
     "output_type": "execute_result"
    }
   ],
   "source": [
    "linear_regression.score(df[['RM']], y)"
   ]
  },
  {
   "cell_type": "code",
   "execution_count": null,
   "metadata": {},
   "outputs": [],
   "source": []
  }
 ],
 "metadata": {
  "kernelspec": {
   "display_name": "Python 3",
   "language": "python",
   "name": "python3"
  },
  "language_info": {
   "codemirror_mode": {
    "name": "ipython",
    "version": 3
   },
   "file_extension": ".py",
   "mimetype": "text/x-python",
   "name": "python",
   "nbconvert_exporter": "python",
   "pygments_lexer": "ipython3",
   "version": "3.7.3"
  },
  "toc": {
   "base_numbering": 1,
   "nav_menu": {},
   "number_sections": true,
   "sideBar": true,
   "skip_h1_title": false,
   "title_cell": "Table of Contents",
   "title_sidebar": "Contents",
   "toc_cell": false,
   "toc_position": {},
   "toc_section_display": true,
   "toc_window_display": false
  }
 },
 "nbformat": 4,
 "nbformat_minor": 2
}
